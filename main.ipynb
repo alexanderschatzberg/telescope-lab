{
 "cells": [
  {
   "attachments": {},
   "cell_type": "markdown",
   "metadata": {},
   "source": [
    "This is the main (and only) notebook in this project. It contains the code relevant to the Telescope lab in my physics class."
   ]
  },
  {
   "cell_type": "code",
   "execution_count": 2,
   "metadata": {},
   "outputs": [],
   "source": [
    "import numpy as np"
   ]
  },
  {
   "cell_type": "code",
   "execution_count": 5,
   "metadata": {},
   "outputs": [
    {
     "name": "stdout",
     "output_type": "stream",
     "text": [
      "The effective aperture of the telescope is:  203889.37482661442 mm6^2 ±  13.322354145925333 mm^2\n"
     ]
    }
   ],
   "source": [
    "#Effective aperture of the telescope \n",
    "\n",
    "d1 = 700 #mm\n",
    "d2 = 480 #mm \n",
    "\n",
    "err = 0.01 #mm I'm pulling this number out of thin air, as we aren't given an error for the diameter of the telescope, nor did we measure it.\n",
    "\n",
    "num = 100000\n",
    "hist_d1 = np.random.normal(d1, err, num)\n",
    "hist_d2 = np.random.normal(d2, err, num)\n",
    "\n",
    "hist_A = np.pi * (hist_d1/2)**2 - np.pi * (hist_d2/2)**2\n",
    "\n",
    "print(\"The effective aperture of the telescope is: \", np.mean(hist_A), \"mm6^2 ±\", np.std(hist_A), \"mm^2\")"
   ]
  }
 ],
 "metadata": {
  "kernelspec": {
   "display_name": "qr",
   "language": "python",
   "name": "python3"
  },
  "language_info": {
   "codemirror_mode": {
    "name": "ipython",
    "version": 3
   },
   "file_extension": ".py",
   "mimetype": "text/x-python",
   "name": "python",
   "nbconvert_exporter": "python",
   "pygments_lexer": "ipython3",
   "version": "3.10.9"
  },
  "orig_nbformat": 4,
  "vscode": {
   "interpreter": {
    "hash": "9c5bc7697870494ef68d2c3c450d9529e2c156aad89e0ec370c3822091610db8"
   }
  }
 },
 "nbformat": 4,
 "nbformat_minor": 2
}
