{
 "cells": [
  {
   "attachments": {},
   "cell_type": "markdown",
   "metadata": {},
   "source": [
    "This is the main (and only) notebook in this project. It contains the code relevant to the Telescope lab in my physics class."
   ]
  },
  {
   "cell_type": "code",
   "execution_count": 24,
   "metadata": {},
   "outputs": [],
   "source": [
    "import numpy as np\n",
    "import matplotlib.pyplot as plt"
   ]
  },
  {
   "cell_type": "code",
   "execution_count": 25,
   "metadata": {},
   "outputs": [
    {
     "name": "stdout",
     "output_type": "stream",
     "text": [
      "The effective aperture of the telescope is:  203889.2961313565 mm^2 ± 13.342534359105043 mm^2\n"
     ]
    }
   ],
   "source": [
    "#Effective aperture of the telescope \n",
    "\n",
    "d1 = 700 #mm\n",
    "d2 = 480 #mm \n",
    "\n",
    "err = 0.01 #mm I'm pulling this number out of thin air, as we aren't given an error for the diameter of the telescope, nor did we measure it. \n",
    "#For Doc. Swift: If you can provide an error for the diameter of the mirrors, that would be great.\n",
    "\n",
    "num = 100000\n",
    "hist_d1 = np.random.normal(d1, err, num)\n",
    "hist_d2 = np.random.normal(d2, err, num)\n",
    "\n",
    "hist_A = np.pi * (hist_d1/2)**2 - np.pi * (hist_d2/2)**2\n",
    "\n",
    "print(\"The effective aperture of the telescope is: \", np.mean(hist_A), \"mm^2 ±\", np.std(hist_A), \"mm^2\")"
   ]
  },
  {
   "cell_type": "code",
   "execution_count": 26,
   "metadata": {},
   "outputs": [
    {
     "name": "stdout",
     "output_type": "stream",
     "text": [
      "The distance from the primary mirror to the focal plane is: 4.549999684009452 m ± 6.487846214656571e-05 m\n"
     ]
    }
   ],
   "source": [
    "#Effective focal ratio of the telescope \n",
    "eff_foc = 6.5\n",
    "\n",
    "#Finding the distance from primary mirror to focal plane\n",
    "hist_focal = (eff_foc*(hist_d1))/1000 #meters\n",
    "\n",
    "print(\"The distance from the primary mirror to the focal plane is:\", np.mean(hist_focal), \"m ±\", np.std(hist_focal), \"m\")\n"
   ]
  },
  {
   "cell_type": "code",
   "execution_count": 28,
   "metadata": {},
   "outputs": [
    {
     "name": "stdout",
     "output_type": "stream",
     "text": [
      "The angle that each pixel subtends is: 0.37455651181447 arcseconds ± 0.005570668239059484 arcseconds\n"
     ]
    }
   ],
   "source": [
    "#Finding the angles that each pixel subtends\n",
    "\n",
    "#Pixel size\n",
    "pix_size = 13.5 #microns\n",
    "pix_size_err = 0.1 #microns\n",
    "\n",
    "hist_pix = np.random.normal(pix_size, pix_size_err, num)\n",
    "\n",
    "#Calculating the angle\n",
    "hist_ang = np.arctan((hist_pix/1000000)/hist_focal)\n",
    "\n",
    "#Converting to arcseconds\n",
    "hist_ang = hist_ang * (180/np.pi) * 3600\n",
    "\n",
    "#Square the angle to get the square arcseconds\n",
    "hist_ang = hist_ang**2\n",
    "\n",
    "print(\"The square angle that each pixel subtends is:\", np.mean(hist_ang), \"arcseconds^2 ±\", np.std(hist_ang), \"arcseconds^2\")"
   ]
  }
 ],
 "metadata": {
  "kernelspec": {
   "display_name": "qr",
   "language": "python",
   "name": "python3"
  },
  "language_info": {
   "codemirror_mode": {
    "name": "ipython",
    "version": 3
   },
   "file_extension": ".py",
   "mimetype": "text/x-python",
   "name": "python",
   "nbconvert_exporter": "python",
   "pygments_lexer": "ipython3",
   "version": "3.10.9"
  },
  "orig_nbformat": 4,
  "vscode": {
   "interpreter": {
    "hash": "9c5bc7697870494ef68d2c3c450d9529e2c156aad89e0ec370c3822091610db8"
   }
  }
 },
 "nbformat": 4,
 "nbformat_minor": 2
}
